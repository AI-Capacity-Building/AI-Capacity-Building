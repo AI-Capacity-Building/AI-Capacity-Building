{
 "cells": [
  {
   "cell_type": "code",
   "execution_count": 1,
   "id": "21e93286",
   "metadata": {
    "execution": {
     "iopub.execute_input": "2022-05-15T13:20:45.852467Z",
     "iopub.status.busy": "2022-05-15T13:20:45.851830Z",
     "iopub.status.idle": "2022-05-15T13:20:45.861628Z",
     "shell.execute_reply": "2022-05-15T13:20:45.861094Z"
    },
    "papermill": {
     "duration": 0.030822,
     "end_time": "2022-05-15T13:20:45.863554",
     "exception": false,
     "start_time": "2022-05-15T13:20:45.832732",
     "status": "completed"
    },
    "tags": []
   },
   "outputs": [],
   "source": [
    "import pandas as pd"
   ]
  },
  {
   "cell_type": "code",
   "execution_count": null,
   "id": "08d67f48",
   "metadata": {
    "execution": {
     "iopub.execute_input": "2022-05-15T13:20:45.897608Z",
     "iopub.status.busy": "2022-05-15T13:20:45.897195Z",
     "iopub.status.idle": "2022-05-15T13:20:47.423615Z",
     "shell.execute_reply": "2022-05-15T13:20:47.422796Z"
    },
    "papermill": {
     "duration": 1.546672,
     "end_time": "2022-05-15T13:20:47.426350",
     "exception": false,
     "start_time": "2022-05-15T13:20:45.879678",
     "status": "completed"
    },
    "tags": []
   },
   "outputs": [
    {
     "data": {
      "text/html": [
       "<div>\n",
       "<style scoped>\n",
       "    .dataframe tbody tr th:only-of-type {\n",
       "        vertical-align: middle;\n",
       "    }\n",
       "\n",
       "    .dataframe tbody tr th {\n",
       "        vertical-align: top;\n",
       "    }\n",
       "\n",
       "    .dataframe thead th {\n",
       "        text-align: right;\n",
       "    }\n",
       "</style>\n",
       "<table border=\"1\" class=\"dataframe\">\n",
       "  <thead>\n",
       "    <tr style=\"text-align: right;\">\n",
       "      <th></th>\n",
       "      <th>label</th>\n",
       "      <th>text</th>\n",
       "    </tr>\n",
       "  </thead>\n",
       "  <tbody>\n",
       "    <tr>\n",
       "      <th>0</th>\n",
       "      <td>Positive</td>\n",
       "      <td>ممتاز نوعا ما . النظافة والموقع والتجهيز والشا...</td>\n",
       "    </tr>\n",
       "    <tr>\n",
       "      <th>1</th>\n",
       "      <td>Positive</td>\n",
       "      <td>أحد أسباب نجاح الإمارات أن كل شخص في هذه الدول...</td>\n",
       "    </tr>\n",
       "    <tr>\n",
       "      <th>2</th>\n",
       "      <td>Positive</td>\n",
       "      <td>هادفة .. وقوية. تنقلك من صخب شوارع القاهرة الى...</td>\n",
       "    </tr>\n",
       "    <tr>\n",
       "      <th>3</th>\n",
       "      <td>Positive</td>\n",
       "      <td>خلصنا .. مبدئيا اللي مستني ابهار زي الفيل الاز...</td>\n",
       "    </tr>\n",
       "    <tr>\n",
       "      <th>4</th>\n",
       "      <td>Positive</td>\n",
       "      <td>ياسات جلوريا جزء لا يتجزأ من دبي . فندق متكامل...</td>\n",
       "    </tr>\n",
       "  </tbody>\n",
       "</table>\n",
       "</div>"
      ],
      "text/plain": [
       "      label                                               text\n",
       "0  Positive  ممتاز نوعا ما . النظافة والموقع والتجهيز والشا...\n",
       "1  Positive  أحد أسباب نجاح الإمارات أن كل شخص في هذه الدول...\n",
       "2  Positive  هادفة .. وقوية. تنقلك من صخب شوارع القاهرة الى...\n",
       "3  Positive  خلصنا .. مبدئيا اللي مستني ابهار زي الفيل الاز...\n",
       "4  Positive  ياسات جلوريا جزء لا يتجزأ من دبي . فندق متكامل..."
      ]
     },
     "execution_count": 4,
     "metadata": {},
     "output_type": "execute_result"
    }
   ],
   "source": [
    "df = pd.read_csv('/smart_cities_usecase/ar_reviews_100k.tsv',sep='\\t')\n",
    "df.head()"
   ]
  },
  {
   "cell_type": "code",
   "execution_count": 5,
   "id": "832b244d",
   "metadata": {
    "execution": {
     "iopub.execute_input": "2022-05-15T13:20:47.462022Z",
     "iopub.status.busy": "2022-05-15T13:20:47.461254Z",
     "iopub.status.idle": "2022-05-15T13:20:47.486154Z",
     "shell.execute_reply": "2022-05-15T13:20:47.485366Z"
    },
    "papermill": {
     "duration": 0.044628,
     "end_time": "2022-05-15T13:20:47.488131",
     "exception": false,
     "start_time": "2022-05-15T13:20:47.443503",
     "status": "completed"
    },
    "tags": []
   },
   "outputs": [
    {
     "data": {
      "text/plain": [
       "label    0\n",
       "text     0\n",
       "dtype: int64"
      ]
     },
     "execution_count": 5,
     "metadata": {},
     "output_type": "execute_result"
    }
   ],
   "source": [
    "df.isnull().sum()"
   ]
  },
  {
   "cell_type": "code",
   "execution_count": 6,
   "id": "5fc91ae3",
   "metadata": {
    "execution": {
     "iopub.execute_input": "2022-05-15T13:20:47.523493Z",
     "iopub.status.busy": "2022-05-15T13:20:47.523226Z",
     "iopub.status.idle": "2022-05-15T13:20:47.541964Z",
     "shell.execute_reply": "2022-05-15T13:20:47.540912Z"
    },
    "papermill": {
     "duration": 0.039213,
     "end_time": "2022-05-15T13:20:47.544354",
     "exception": false,
     "start_time": "2022-05-15T13:20:47.505141",
     "status": "completed"
    },
    "tags": []
   },
   "outputs": [
    {
     "data": {
      "text/plain": [
       "Positive    33333\n",
       "Mixed       33333\n",
       "Negative    33333\n",
       "Name: label, dtype: int64"
      ]
     },
     "execution_count": 6,
     "metadata": {},
     "output_type": "execute_result"
    }
   ],
   "source": [
    "df['label'].value_counts()"
   ]
  },
  {
   "cell_type": "code",
   "execution_count": 7,
   "id": "a98e8733",
   "metadata": {
    "execution": {
     "iopub.execute_input": "2022-05-15T13:20:47.583666Z",
     "iopub.status.busy": "2022-05-15T13:20:47.583069Z",
     "iopub.status.idle": "2022-05-15T13:20:47.600581Z",
     "shell.execute_reply": "2022-05-15T13:20:47.599936Z"
    },
    "papermill": {
     "duration": 0.040147,
     "end_time": "2022-05-15T13:20:47.603037",
     "exception": false,
     "start_time": "2022-05-15T13:20:47.562890",
     "status": "completed"
    },
    "tags": []
   },
   "outputs": [],
   "source": [
    "df = df[df['label']!='Mixed']"
   ]
  },
  {
   "cell_type": "code",
   "execution_count": 8,
   "id": "0cb58ca6",
   "metadata": {
    "execution": {
     "iopub.execute_input": "2022-05-15T13:20:47.639035Z",
     "iopub.status.busy": "2022-05-15T13:20:47.638505Z",
     "iopub.status.idle": "2022-05-15T13:20:47.871773Z",
     "shell.execute_reply": "2022-05-15T13:20:47.870988Z"
    },
    "papermill": {
     "duration": 0.253619,
     "end_time": "2022-05-15T13:20:47.873924",
     "exception": false,
     "start_time": "2022-05-15T13:20:47.620305",
     "status": "completed"
    },
    "tags": []
   },
   "outputs": [
    {
     "data": {
      "text/plain": [
       "0"
      ]
     },
     "execution_count": 8,
     "metadata": {},
     "output_type": "execute_result"
    }
   ],
   "source": [
    "df.duplicated().sum()"
   ]
  },
  {
   "cell_type": "code",
   "execution_count": 9,
   "id": "acd8e19b",
   "metadata": {
    "execution": {
     "iopub.execute_input": "2022-05-15T13:20:47.910977Z",
     "iopub.status.busy": "2022-05-15T13:20:47.910720Z",
     "iopub.status.idle": "2022-05-15T13:20:49.721352Z",
     "shell.execute_reply": "2022-05-15T13:20:49.720296Z"
    },
    "papermill": {
     "duration": 1.831827,
     "end_time": "2022-05-15T13:20:49.723947",
     "exception": false,
     "start_time": "2022-05-15T13:20:47.892120",
     "status": "completed"
    },
    "tags": []
   },
   "outputs": [
    {
     "name": "stderr",
     "output_type": "stream",
     "text": [
      "[nltk_data] Downloading package stopwords to\n",
      "[nltk_data]     C:\\Users\\yahya_abbas\\AppData\\Roaming\\nltk_data...\n"
     ]
    },
    {
     "name": "stdout",
     "output_type": "stream",
     "text": [
      "['عدَّ', 'لعل', 'اثنين', 'كأيّ', 'إياكن', 'الذي', 'أعلم', 'ن', 'ثلاثاء', 'كأن', 'على', 'حدَث', 'أنتم', 'نيسان', 'يا', 'فمن', 'تسعمئة', 'فيم', 'ذوا', 'سبعمائة', 'ثم', 'لكي', 'ى', 'كاف', 'سرعان', 'هاتان', 'أمسى', 'شرع', 'فاء', 'عما', 'ثمانين', 'هما', 'خلا', 'صبرا', 'هاتي', 'ذهب', 'لكنما', 'عسى', 'فبراير', 'علق', 'تلكما', 'هَذا', 'كأنما', 'طالما', 'لدن', 'صدقا', 'هيّا', 'أطعم', 'إياكما', 'يونيو', 'سبعة', 'ذلكم', 'بكم', 'عامة', 'ساء', 'أيا', 'بكن', 'تخذ', 'ظلّ', 'ذين', 'فلا', 'تلقاء', 'سبعين', 'ذه', 'باء', 'ليس', 'أولاء', 'خلف', 'أعطى', 'لا سيما', 'أوشك', 'كلّما', 'ما انفك', 'ته', 'ليرة', 'مافتئ', 'بكما', 'تسعين', 'لاسيما', 'سبت', 'إليكم', 'سوف', 'هلا', 'أوت', 'سادس', 'بخٍ', 'كليهما', 'إحدى', 'كرب', 'ريال', 'إليك', 'إما', 'حاء', 'عليه', 'مادام', 'غدا', 'ثلاثمئة', 'خميس', 'خاصة', 'إياكم', 'فضلا', 'صهْ', 'بنا', 'لكيلا', 'وَيْ', 'أنّى', 'قرش', 'ثمنمئة', 'كذا', 'كم', 'ثالث', 'نا', 'أمام', 'وإن', 'ذواتا', 'تانِ', 'ما برح', 'أخذ', 'ترك', 'حمو', 'إلّا', 'وجد', 'اربعون', 'أجمع', 'وما', 'كاد', 'ل', 'لكن', 'لستم', 'لهما', 'غين', 'منه', 'حيث', 'مساء', 'قطّ', 'كلما', 'أما', 'التي', 'هَيْهات', 'ء', 'جعل', 'أصلا', 'آناء', 'عند', 'ذواتي', 'أنا', 'هل', 'نوفمبر', 'أيلول', 'ف', 'الألى', 'ولو', 'ريث', 'آي', 'شتان', 'مهما', 'هكذا', 'حمٌ', 'عشر', 'عل', 'إيهٍ', 'هَذانِ', 'بؤسا', 'أنًّ', 'هو', 'ثان', 'حادي', 'ابتدأ', 'ثلاثون', 'هذه', 'سرا', 'أول', 'رويدك', 'ذان', 'لستن', 'أربعاء', 'كي', 'دواليك', 'هلم', 'حمدا', 'أجل', 'لنا', 'خمسة', 'مكانكما', 'متى', 'بين', 'بماذا', 'أنى', 'شيكل', 'صراحة', 'جلل', 'حبذا', 'مما', 'اللتان', 'لي', 'طرا', 'وُشْكَانَ', 'أربعمئة', 'اللائي', 'حزيران', 'تجاه', 'إلى', 'أيّان', 'ستمائة', 'ض', 'لوما', 'ثمانون', 'هذي', 'هَاتانِ', 'غادر', 'سحقا', 'يوان', 'أخو', 'بلى', 'اللتين', 'أولالك', 'أيها', 'جانفي', 'قبل', 'هيا', 'ستون', 'جمعة', 'إياك', 'بَسْ', 'سبتمبر', 'إمّا', 'إليكن', 'كن', 'أمامك', 'لك', 'إياهم', 'انقلب', 'ستمئة', 'عيانا', 'حسب', 'لدى', 'فإن', 'إذا', 'وإذ', 'له', 'تسعمائة', 'هنالك', 'شَتَّانَ', 'نبَّا', 'ي', 'استحال', 'مع', 'بات', 'ثمة', 'أيّ', 'مرّة', 'ذات', 'فلان', 'آ', 'طَق', 'ألف', 'اخلولق', 'ذينك', 'هللة', 'آهاً', 'تبدّل', 'سبعون', 'صباح', 'إليكَ', 'إذ', 'تاء', 'ذلكن', 'هبّ', 'الآن', 'هم', 'يناير', 'إياهن', 'وراءَك', 'ثمّ', 'إنا', 'لئن', 'هاتين', 'قد', 'رأى', 'سبع', 'آض', 'ولا', 'مثل', 'دون', 'ع', 'بها', 'س', 'حَذارِ', 'كسا', 'لم', 'ؤ', 'ذو', 'كأنّ', 'راح', 'دونك', 'لستما', 'ة', 'جير', 'أبو', 'واهاً', 'أو', 'ليسا', 'صهٍ', 'عشرون', 'طاء', 'آذار', 'ثماني', 'لعلَّ', 'اللتيا', 'نعم', 'كيت', 'إياهما', 'الذين', 'بس', 'كان', 'خلافا', 'بهن', 'تانِك', 'ليت', 'أنتِ', 'جنيه', 'مئتان', 'تي', 'هي', 'أفريل', 'تَيْنِ', 'ليست', 'علًّ', 'أيضا', 'أى', 'ألا', 'عَدَسْ', 'فيها', 'دال', 'قلما', 'ثلاثين', 'اربعين', 'آه', 'بعض', 'كأي', 'زعم', 'إيه', 'اللذين', 'صاد', 'هَذِي', 'ستة', 'حاي', 'م', 'لسن', 'هَؤلاء', 'لو', 'أربعة', 'ثمانية', 'أين', 'فيما', 'أضحى', 'لعمر', 'اثنان', 'أسكن', 'كثيرا', 'كيف', 'آهٍ', 'نحن', 'هؤلاء', 'ديسمبر', 'تموز', 'لهم', 'ح', 'إليكنّ', 'بسّ', 'دولار', 'بك', 'انبرى', 'تلكم', 'لولا', 'هذين', 'كِخ', 'تفعلان', 'ذِي', 'بضع', 'أخبر', 'زاي', 'كيفما', 'هن', 'صار', 'شباط', 'سقى', 'خال', 'فرادى', 'تفعلون', 'منذ', 'ذ', 'هاء', 'قاطبة', 'دينار', 'نيف', 'هاهنا', 'ك', 'أبٌ', 'ئ', 'إذاً', 'عدا', 'تعسا', 'تحت', 'أنشأ', 'ومن', 'ذال', 'وهب', 'به', 'جيم', 'غالبا', 'سمعا', 'عن', 'ولكن', 'هنا', 'تسعة', 'أ', 'أرى', 'فيفري', 'آنفا', 'حبيب', 'لبيك', 'كذلك', 'قام', 'كانون', 'نَخْ', 'خبَّر', 'جوان', 'رُبَّ', 'معاذ', 'كلتا', 'راء', 'سين', 'ها', 'تِي', 'هَاتِي', 'والذي', 'بغتة', 'لا', 'ست', 'واحد', 'هَجْ', 'منها', 'ص', 'إذما', 'أربعمائة', 'خمسون', 'تينك', 'لست', 'ضحوة', 'إنه', 'إى', 'هَاتِه', 'والذين', 'كل', 'هذا', 'ليستا', 'مايو', 'أن', 'لكما', 'تشرين', 'إي', 'خمس', 'ظاء', 'كأيّن', 'ضاد', 'هاكَ', 'لات', 'يمين', 'إنَّ', 'ثاء', 'سنتيم', 'لكم', 'أم', 'بعدا', 'إزاء', 'إن', 'وهو', 'تاسع', 'عاشر', 'مائة', 'ش', 'خمسمائة', 'ثلاثة', 'الألاء', 'ياء', 'حقا', 'رجع', 'رزق', 'آها', 'ذا', 'نون', 'كليكما', 'أف', 'أيار', 'حجا', 'بطآن', 'عين', 'هيهات', 'أمد', 'ذَيْنِ', 'ثلاث', 'خمسمئة', 'أقبل', 'إياها', 'حرى', 'تين', 'إلَيْكَ', 'طاق', 'زود', 'هاته', 'ألفى', 'تسعون', 'نفس', 'إياي', 'آهِ', 'مكانكم', 'أمامكَ', 'ثلاثمائة', 'فلس', 'ظ', 'عجبا', 'أبريل', 'عشرة', 'سبعمئة', 'هذان', 'درهم', 'ّأيّان', 'بخ', 'قاف', 'لام', 'حيثما', 'شين', 'فيه', 'أمس', 'همزة', 'تحوّل', 'لمّا', 'د', 'ذانِ', 'آمينَ', 'حاشا', 'لسنا', 'أفعل به', 'أولئك', 'مه', 'هلّا', 'كى', 'ثمَّ', 'إلا', 'أوه', 'مكانكنّ', 'ذيت', 'علم', 'أخٌ', 'صبر', 'ما', 'ه', 'هَذِه', 'هَذَيْنِ', 'يفعلون', 'يفعلان', 'أنتن', 'أربع', 'ذانك', 'أهلا', 'تسع', 'نحو', 'في', 'حيَّ', 'عوض', 'سوى', 'لهن', 'اللذان', 'كلَّا', 'مارس', 'ط', 'بئس', 'أكتوبر', 'مازال', 'إليكما', 'بهما', 'حتى', 'لها', 'بيد', 'كلاهما', 'عليك', 'كما', 'هاك', 'ز', 'درى', 'ثاني', 'رابع', 'جويلية', 'تارة', 'أينما', 'بما', 'عاد', 'إياه', 'تفعلين', 'ذلكما', 'ورد', 'أغسطس', 'حين', 'أقل', 'أمّا', 'أحد', 'نَّ', 'يورو', 'أوّهْ', 'سبحان', 'هيت', 'خمسين', 'جميع', 'أنتما', 'اثنا', 'اللاتي', 'فو', 'ث', 'يوليو', 'ثمّة', 'ظنَّ', 'مئة', 'بل', 'كلا', 'بمن', 'هناك', 'ر', 'شتانَ', 'أنبأ', 'و', 'ذاك', 'غير', 'هَاتَيْنِ', 'كأين', 'إيانا', 'إنما', 'خاء', 'ليسوا', 'وا', 'ت', 'أكثر', 'ين', 'ستين', 'ماذا', 'ق', 'بعد', 'سابع', 'شمال', 'وإذا', 'مذ', 'مليم', 'أي', 'بهم', 'أُفٍّ', 'شبه', 'لما', 'لكنَّ', 'ثامن', 'ارتدّ', 'عشرين', 'طفق', 'إذن', 'تلك', 'أل', 'تعلَّم', 'ج', 'ذي', 'فوق', 'اللواتي', 'بَلْهَ', 'أنت', 'ب', 'غ', 'خ', 'واو', 'ثمان', 'مكانَك', 'اثني', 'ما أفعله', 'من', 'أبدا', 'لن', 'تِه', 'ممن', 'ميم', 'ذِه', 'أصبح', 'خامس', 'ا', 'حار', 'بي', 'غداة', 'ذلك', 'ءَ', 'آب', 'ثمانمئة', 'ماي', 'فإذا', 'أفٍّ', 'اتخذ']\n"
     ]
    },
    {
     "name": "stderr",
     "output_type": "stream",
     "text": [
      "[nltk_data]   Unzipping corpora\\stopwords.zip.\n"
     ]
    }
   ],
   "source": [
    "import nltk\n",
    "from nltk.corpus import stopwords\n",
    "nltk.download('stopwords')\n",
    "stop_words = list(set(stopwords.words('arabic')))\n",
    "print(stop_words)"
   ]
  },
  {
   "cell_type": "code",
   "execution_count": 10,
   "id": "51f414e9",
   "metadata": {
    "execution": {
     "iopub.execute_input": "2022-05-15T13:20:49.762225Z",
     "iopub.status.busy": "2022-05-15T13:20:49.761662Z",
     "iopub.status.idle": "2022-05-15T13:20:49.766034Z",
     "shell.execute_reply": "2022-05-15T13:20:49.765346Z"
    },
    "papermill": {
     "duration": 0.025391,
     "end_time": "2022-05-15T13:20:49.767747",
     "exception": false,
     "start_time": "2022-05-15T13:20:49.742356",
     "status": "completed"
    },
    "tags": []
   },
   "outputs": [],
   "source": [
    "import re\n",
    "import string\n",
    "import sys\n",
    "import argparse\n",
    "from nltk.tokenize import word_tokenize\n",
    "\n",
    "arabic_punctuations = '''`÷×؛<>_()*&^%][ـ،/:\"؟.,'{}~¦+|!”…“–ـ'''\n",
    "english_punctuations = string.punctuation\n",
    "punctuations_list = arabic_punctuations + english_punctuations\n"
   ]
  },
  {
   "cell_type": "code",
   "execution_count": 11,
   "id": "1f19bee6",
   "metadata": {
    "execution": {
     "iopub.execute_input": "2022-05-15T13:20:49.806700Z",
     "iopub.status.busy": "2022-05-15T13:20:49.806138Z",
     "iopub.status.idle": "2022-05-15T13:20:49.814258Z",
     "shell.execute_reply": "2022-05-15T13:20:49.813357Z"
    },
    "papermill": {
     "duration": 0.028797,
     "end_time": "2022-05-15T13:20:49.816163",
     "exception": false,
     "start_time": "2022-05-15T13:20:49.787366",
     "status": "completed"
    },
    "tags": []
   },
   "outputs": [],
   "source": [
    "def remove_diacritics(text):\n",
    "    arabic_diacritics = re.compile(\"\"\" ّ    | # Tashdid\n",
    "                             َ    | # Fatha\n",
    "                             ً    | # Tanwin Fath\n",
    "                             ُ    | # Damma\n",
    "                             ٌ    | # Tanwin Damm\n",
    "                             ِ    | # Kasra\n",
    "                             ٍ    | # Tanwin Kasr\n",
    "                             ْ    | # Sukun\n",
    "                             ـ     # Tatwil/Kashida\n",
    "                         \"\"\", re.VERBOSE)\n",
    "    text = re.sub(arabic_diacritics, '', str(text))\n",
    "    return text\n",
    "\n",
    "def remove_emoji(text):\n",
    "    regrex_pattern = re.compile(pattern = \"[\"\n",
    "        u\"\\U0001F600-\\U0001F64F\"  # emoticons\n",
    "        u\"\\U0001F300-\\U0001F5FF\"  # symbols & pictographs\n",
    "        u\"\\U0001F680-\\U0001F6FF\"  # transport & map symbols\n",
    "        u\"\\U0001F1E0-\\U0001F1FF\"  # flags (iOS)\n",
    "                           \"]+\", flags = re.UNICODE)\n",
    "    return regrex_pattern.sub(r'',text)\n",
    "\n",
    "def clean_text(text):\n",
    "    text = \"\".join([word for word in text if word not in string.punctuation])\n",
    "    text = remove_emoji(text)\n",
    "    text = remove_diacritics(text)\n",
    "    tokens = word_tokenize(text)\n",
    "    text = ' '.join([word for word in tokens if word not in stop_words])\n",
    "    return text"
   ]
  },
  {
   "cell_type": "code",
   "execution_count": 14,
   "id": "80ed11cc",
   "metadata": {},
   "outputs": [
    {
     "name": "stdout",
     "output_type": "stream",
     "text": [
      "showing info https://raw.githubusercontent.com/nltk/nltk_data/gh-pages/index.xml\n"
     ]
    },
    {
     "data": {
      "text/plain": [
       "True"
      ]
     },
     "execution_count": 14,
     "metadata": {},
     "output_type": "execute_result"
    }
   ],
   "source": [
    "nltk.download('punkt')"
   ]
  },
  {
   "cell_type": "code",
   "execution_count": 15,
   "id": "b19ebdfe",
   "metadata": {
    "execution": {
     "iopub.execute_input": "2022-05-15T13:20:49.852807Z",
     "iopub.status.busy": "2022-05-15T13:20:49.852514Z",
     "iopub.status.idle": "2022-05-15T13:21:39.712515Z",
     "shell.execute_reply": "2022-05-15T13:21:39.711627Z"
    },
    "papermill": {
     "duration": 49.880863,
     "end_time": "2022-05-15T13:21:39.714733",
     "exception": false,
     "start_time": "2022-05-15T13:20:49.833870",
     "status": "completed"
    },
    "tags": []
   },
   "outputs": [],
   "source": [
    "df['cleanedtext'] = df['text'].apply(clean_text)"
   ]
  },
  {
   "cell_type": "code",
   "execution_count": 16,
   "id": "407e4009",
   "metadata": {
    "execution": {
     "iopub.execute_input": "2022-05-15T13:21:39.751688Z",
     "iopub.status.busy": "2022-05-15T13:21:39.751402Z",
     "iopub.status.idle": "2022-05-15T13:21:39.760787Z",
     "shell.execute_reply": "2022-05-15T13:21:39.759978Z"
    },
    "papermill": {
     "duration": 0.03021,
     "end_time": "2022-05-15T13:21:39.762631",
     "exception": false,
     "start_time": "2022-05-15T13:21:39.732421",
     "status": "completed"
    },
    "tags": []
   },
   "outputs": [
    {
     "data": {
      "text/html": [
       "<div>\n",
       "<style scoped>\n",
       "    .dataframe tbody tr th:only-of-type {\n",
       "        vertical-align: middle;\n",
       "    }\n",
       "\n",
       "    .dataframe tbody tr th {\n",
       "        vertical-align: top;\n",
       "    }\n",
       "\n",
       "    .dataframe thead th {\n",
       "        text-align: right;\n",
       "    }\n",
       "</style>\n",
       "<table border=\"1\" class=\"dataframe\">\n",
       "  <thead>\n",
       "    <tr style=\"text-align: right;\">\n",
       "      <th></th>\n",
       "      <th>label</th>\n",
       "      <th>text</th>\n",
       "      <th>cleanedtext</th>\n",
       "    </tr>\n",
       "  </thead>\n",
       "  <tbody>\n",
       "    <tr>\n",
       "      <th>0</th>\n",
       "      <td>Positive</td>\n",
       "      <td>ممتاز نوعا ما . النظافة والموقع والتجهيز والشا...</td>\n",
       "      <td>ممتاز نوعا النظافة والموقع والتجهيز والشاطيء ا...</td>\n",
       "    </tr>\n",
       "    <tr>\n",
       "      <th>1</th>\n",
       "      <td>Positive</td>\n",
       "      <td>أحد أسباب نجاح الإمارات أن كل شخص في هذه الدول...</td>\n",
       "      <td>أسباب نجاح الإمارات شخص الدولة يعشق ترابها نحب...</td>\n",
       "    </tr>\n",
       "    <tr>\n",
       "      <th>2</th>\n",
       "      <td>Positive</td>\n",
       "      <td>هادفة .. وقوية. تنقلك من صخب شوارع القاهرة الى...</td>\n",
       "      <td>هادفة وقوية تنقلك صخب شوارع القاهرة الى هدوء ج...</td>\n",
       "    </tr>\n",
       "    <tr>\n",
       "      <th>3</th>\n",
       "      <td>Positive</td>\n",
       "      <td>خلصنا .. مبدئيا اللي مستني ابهار زي الفيل الاز...</td>\n",
       "      <td>خلصنا مبدئيا اللي مستني ابهار زي الفيل الازرق ...</td>\n",
       "    </tr>\n",
       "    <tr>\n",
       "      <th>4</th>\n",
       "      <td>Positive</td>\n",
       "      <td>ياسات جلوريا جزء لا يتجزأ من دبي . فندق متكامل...</td>\n",
       "      <td>ياسات جلوريا جزء يتجزأ دبي فندق متكامل الخدمات...</td>\n",
       "    </tr>\n",
       "  </tbody>\n",
       "</table>\n",
       "</div>"
      ],
      "text/plain": [
       "      label                                               text  \\\n",
       "0  Positive  ممتاز نوعا ما . النظافة والموقع والتجهيز والشا...   \n",
       "1  Positive  أحد أسباب نجاح الإمارات أن كل شخص في هذه الدول...   \n",
       "2  Positive  هادفة .. وقوية. تنقلك من صخب شوارع القاهرة الى...   \n",
       "3  Positive  خلصنا .. مبدئيا اللي مستني ابهار زي الفيل الاز...   \n",
       "4  Positive  ياسات جلوريا جزء لا يتجزأ من دبي . فندق متكامل...   \n",
       "\n",
       "                                         cleanedtext  \n",
       "0  ممتاز نوعا النظافة والموقع والتجهيز والشاطيء ا...  \n",
       "1  أسباب نجاح الإمارات شخص الدولة يعشق ترابها نحب...  \n",
       "2  هادفة وقوية تنقلك صخب شوارع القاهرة الى هدوء ج...  \n",
       "3  خلصنا مبدئيا اللي مستني ابهار زي الفيل الازرق ...  \n",
       "4  ياسات جلوريا جزء يتجزأ دبي فندق متكامل الخدمات...  "
      ]
     },
     "execution_count": 16,
     "metadata": {},
     "output_type": "execute_result"
    }
   ],
   "source": [
    "df.head()"
   ]
  },
  {
   "cell_type": "code",
   "execution_count": 17,
   "id": "f59d2299",
   "metadata": {
    "execution": {
     "iopub.execute_input": "2022-05-15T13:21:39.800449Z",
     "iopub.status.busy": "2022-05-15T13:21:39.800177Z",
     "iopub.status.idle": "2022-05-15T13:21:39.804837Z",
     "shell.execute_reply": "2022-05-15T13:21:39.804044Z"
    },
    "papermill": {
     "duration": 0.025836,
     "end_time": "2022-05-15T13:21:39.806566",
     "exception": false,
     "start_time": "2022-05-15T13:21:39.780730",
     "status": "completed"
    },
    "tags": []
   },
   "outputs": [],
   "source": [
    "def process_text(text):\n",
    "    stemmer = nltk.ISRIStemmer()\n",
    "    word_list = nltk.word_tokenize(text)\n",
    "    #stemming\n",
    "    word_list = [stemmer.stem(w) for w in  word_list]\n",
    "    return ' '.join(word_list) \n"
   ]
  },
  {
   "cell_type": "code",
   "execution_count": 18,
   "id": "9cd64040",
   "metadata": {
    "execution": {
     "iopub.execute_input": "2022-05-15T13:21:39.845368Z",
     "iopub.status.busy": "2022-05-15T13:21:39.844817Z",
     "iopub.status.idle": "2022-05-15T13:22:14.095978Z",
     "shell.execute_reply": "2022-05-15T13:22:14.095394Z"
    },
    "papermill": {
     "duration": 34.273173,
     "end_time": "2022-05-15T13:22:14.098354",
     "exception": false,
     "start_time": "2022-05-15T13:21:39.825181",
     "status": "completed"
    },
    "tags": []
   },
   "outputs": [],
   "source": [
    "df['cleanedtextnew']=df['cleanedtext'].apply(process_text)"
   ]
  },
  {
   "cell_type": "code",
   "execution_count": 19,
   "id": "a9afe685",
   "metadata": {
    "execution": {
     "iopub.execute_input": "2022-05-15T13:22:14.136687Z",
     "iopub.status.busy": "2022-05-15T13:22:14.136242Z",
     "iopub.status.idle": "2022-05-15T13:22:14.146765Z",
     "shell.execute_reply": "2022-05-15T13:22:14.145926Z"
    },
    "papermill": {
     "duration": 0.03173,
     "end_time": "2022-05-15T13:22:14.148699",
     "exception": false,
     "start_time": "2022-05-15T13:22:14.116969",
     "status": "completed"
    },
    "tags": []
   },
   "outputs": [
    {
     "data": {
      "text/html": [
       "<div>\n",
       "<style scoped>\n",
       "    .dataframe tbody tr th:only-of-type {\n",
       "        vertical-align: middle;\n",
       "    }\n",
       "\n",
       "    .dataframe tbody tr th {\n",
       "        vertical-align: top;\n",
       "    }\n",
       "\n",
       "    .dataframe thead th {\n",
       "        text-align: right;\n",
       "    }\n",
       "</style>\n",
       "<table border=\"1\" class=\"dataframe\">\n",
       "  <thead>\n",
       "    <tr style=\"text-align: right;\">\n",
       "      <th></th>\n",
       "      <th>label</th>\n",
       "      <th>text</th>\n",
       "      <th>cleanedtext</th>\n",
       "      <th>cleanedtextnew</th>\n",
       "    </tr>\n",
       "  </thead>\n",
       "  <tbody>\n",
       "    <tr>\n",
       "      <th>0</th>\n",
       "      <td>Positive</td>\n",
       "      <td>ممتاز نوعا ما . النظافة والموقع والتجهيز والشا...</td>\n",
       "      <td>ممتاز نوعا النظافة والموقع والتجهيز والشاطيء ا...</td>\n",
       "      <td>متز نوع نظف وقع جهز شاطيء طعم</td>\n",
       "    </tr>\n",
       "    <tr>\n",
       "      <th>1</th>\n",
       "      <td>Positive</td>\n",
       "      <td>أحد أسباب نجاح الإمارات أن كل شخص في هذه الدول...</td>\n",
       "      <td>أسباب نجاح الإمارات شخص الدولة يعشق ترابها نحب...</td>\n",
       "      <td>سبب نجح امر شخص دول عشق ترب نحب امر ومض فكر نص...</td>\n",
       "    </tr>\n",
       "    <tr>\n",
       "      <th>2</th>\n",
       "      <td>Positive</td>\n",
       "      <td>هادفة .. وقوية. تنقلك من صخب شوارع القاهرة الى...</td>\n",
       "      <td>هادفة وقوية تنقلك صخب شوارع القاهرة الى هدوء ج...</td>\n",
       "      <td>هدف وقي نقل صخب شرع قهر الى هدء جبل شيش عرف حق...</td>\n",
       "    </tr>\n",
       "    <tr>\n",
       "      <th>3</th>\n",
       "      <td>Positive</td>\n",
       "      <td>خلصنا .. مبدئيا اللي مستني ابهار زي الفيل الاز...</td>\n",
       "      <td>خلصنا مبدئيا اللي مستني ابهار زي الفيل الازرق ...</td>\n",
       "      <td>خلص بدئ الل مست بهر زي فيل زرق ميقراش احس حمد ...</td>\n",
       "    </tr>\n",
       "    <tr>\n",
       "      <th>4</th>\n",
       "      <td>Positive</td>\n",
       "      <td>ياسات جلوريا جزء لا يتجزأ من دبي . فندق متكامل...</td>\n",
       "      <td>ياسات جلوريا جزء يتجزأ دبي فندق متكامل الخدمات...</td>\n",
       "      <td>ياس جلر جزء جزأ دبي ندق كامل خدم ريح نفس وجد</td>\n",
       "    </tr>\n",
       "  </tbody>\n",
       "</table>\n",
       "</div>"
      ],
      "text/plain": [
       "      label                                               text  \\\n",
       "0  Positive  ممتاز نوعا ما . النظافة والموقع والتجهيز والشا...   \n",
       "1  Positive  أحد أسباب نجاح الإمارات أن كل شخص في هذه الدول...   \n",
       "2  Positive  هادفة .. وقوية. تنقلك من صخب شوارع القاهرة الى...   \n",
       "3  Positive  خلصنا .. مبدئيا اللي مستني ابهار زي الفيل الاز...   \n",
       "4  Positive  ياسات جلوريا جزء لا يتجزأ من دبي . فندق متكامل...   \n",
       "\n",
       "                                         cleanedtext  \\\n",
       "0  ممتاز نوعا النظافة والموقع والتجهيز والشاطيء ا...   \n",
       "1  أسباب نجاح الإمارات شخص الدولة يعشق ترابها نحب...   \n",
       "2  هادفة وقوية تنقلك صخب شوارع القاهرة الى هدوء ج...   \n",
       "3  خلصنا مبدئيا اللي مستني ابهار زي الفيل الازرق ...   \n",
       "4  ياسات جلوريا جزء يتجزأ دبي فندق متكامل الخدمات...   \n",
       "\n",
       "                                      cleanedtextnew  \n",
       "0                      متز نوع نظف وقع جهز شاطيء طعم  \n",
       "1  سبب نجح امر شخص دول عشق ترب نحب امر ومض فكر نص...  \n",
       "2  هدف وقي نقل صخب شرع قهر الى هدء جبل شيش عرف حق...  \n",
       "3  خلص بدئ الل مست بهر زي فيل زرق ميقراش احس حمد ...  \n",
       "4       ياس جلر جزء جزأ دبي ندق كامل خدم ريح نفس وجد  "
      ]
     },
     "execution_count": 19,
     "metadata": {},
     "output_type": "execute_result"
    }
   ],
   "source": [
    "df.head()"
   ]
  },
  {
   "cell_type": "code",
   "execution_count": 20,
   "id": "6b73a9e6",
   "metadata": {
    "execution": {
     "iopub.execute_input": "2022-05-15T13:22:14.187690Z",
     "iopub.status.busy": "2022-05-15T13:22:14.187414Z",
     "iopub.status.idle": "2022-05-15T13:22:14.204757Z",
     "shell.execute_reply": "2022-05-15T13:22:14.203873Z"
    },
    "papermill": {
     "duration": 0.03881,
     "end_time": "2022-05-15T13:22:14.206597",
     "exception": false,
     "start_time": "2022-05-15T13:22:14.167787",
     "status": "completed"
    },
    "tags": []
   },
   "outputs": [
    {
     "name": "stdout",
     "output_type": "stream",
     "text": [
      "46666\n",
      "46666\n",
      "20000\n",
      "20000\n"
     ]
    }
   ],
   "source": [
    "### split data to train and test \n",
    "from sklearn.model_selection import train_test_split\n",
    "x,y=df['cleanedtext'],df['label']\n",
    "x_train,x_test,y_train,y_test=train_test_split(x,y,test_size=0.3)\n",
    "print(len(x_train))\n",
    "print(len(y_train))\n",
    "print(len(x_test))\n",
    "print(len(y_test))"
   ]
  },
  {
   "cell_type": "code",
   "execution_count": 21,
   "id": "b0ef25d2",
   "metadata": {
    "execution": {
     "iopub.execute_input": "2022-05-15T13:22:14.247038Z",
     "iopub.status.busy": "2022-05-15T13:22:14.246725Z",
     "iopub.status.idle": "2022-05-15T13:22:14.250867Z",
     "shell.execute_reply": "2022-05-15T13:22:14.250025Z"
    },
    "papermill": {
     "duration": 0.026653,
     "end_time": "2022-05-15T13:22:14.252687",
     "exception": false,
     "start_time": "2022-05-15T13:22:14.226034",
     "status": "completed"
    },
    "tags": []
   },
   "outputs": [],
   "source": [
    "\n",
    "from sklearn.feature_extraction.text import TfidfVectorizer\n",
    "from sklearn.svm import SVC\n",
    "vectorizer=TfidfVectorizer() #(analyzer='char_wb',ngram_range=(3,5),min_df=0.01,max_df=0.3)"
   ]
  },
  {
   "cell_type": "code",
   "execution_count": null,
   "id": "3fd7b607",
   "metadata": {
    "execution": {
     "iopub.execute_input": "2022-05-15T13:22:14.292601Z",
     "iopub.status.busy": "2022-05-15T13:22:14.292298Z",
     "iopub.status.idle": "2022-05-15T13:22:14.295872Z",
     "shell.execute_reply": "2022-05-15T13:22:14.295105Z"
    },
    "papermill": {
     "duration": 0.02581,
     "end_time": "2022-05-15T13:22:14.297611",
     "exception": false,
     "start_time": "2022-05-15T13:22:14.271801",
     "status": "completed"
    },
    "tags": []
   },
   "outputs": [
    {
     "ename": "",
     "evalue": "",
     "output_type": "error",
     "traceback": [
      "\u001b[1;31mRunning cells with 'Python 3.10.5 64-bit' requires ipykernel package.\n",
      "\u001b[1;31mRun the following command to install 'ipykernel' into the Python environment. \n",
      "\u001b[1;31mCommand: '\"c:/Program Files/Python310/python.exe\" -m pip install ipykernel -U --user --force-reinstall'"
     ]
    }
   ],
   "source": [
    "# We used max_iter=10 to test that the notebook is working\n",
    "# However, to reach convergence, we recommend removing this argument\n",
    "clf=SVC(kernel='rbf', max_iter=10)"
   ]
  },
  {
   "cell_type": "code",
   "execution_count": 33,
   "id": "3534b0b3",
   "metadata": {
    "execution": {
     "iopub.execute_input": "2022-05-15T13:22:14.338820Z",
     "iopub.status.busy": "2022-05-15T13:22:14.338555Z",
     "iopub.status.idle": "2022-05-15T13:22:14.345816Z",
     "shell.execute_reply": "2022-05-15T13:22:14.344899Z"
    },
    "papermill": {
     "duration": 0.029999,
     "end_time": "2022-05-15T13:22:14.347686",
     "exception": false,
     "start_time": "2022-05-15T13:22:14.317687",
     "status": "completed"
    },
    "tags": []
   },
   "outputs": [],
   "source": [
    "from sklearn.pipeline import make_pipeline\n",
    "pipe=make_pipeline(vectorizer,clf)"
   ]
  },
  {
   "cell_type": "code",
   "execution_count": 34,
   "id": "8cbdbb32",
   "metadata": {},
   "outputs": [],
   "source": [
    "from pprint import pprint\n",
    "import mlflow\n",
    "from mlflow import MlflowClient\n",
    "\n",
    "def fetch_logged_data(run_id):\n",
    "    client = MlflowClient()\n",
    "    data = client.get_run(run_id).data\n",
    "    tags = {k: v for k, v in data.tags.items() if not k.startswith(\"mlflow.\")}\n",
    "    artifacts = [f.path for f in client.list_artifacts(run_id, \"model\")]\n",
    "    return data.params, data.metrics, tags, artifacts\n",
    "\n",
    "mlflow.set_tracking_uri(\"/smart_cities_usecase/mlruns\")\n",
    "\n",
    "mlflow.sklearn.autolog()"
   ]
  },
  {
   "cell_type": "code",
   "execution_count": 35,
   "id": "1cf3b184",
   "metadata": {
    "execution": {
     "iopub.execute_input": "2022-05-15T13:22:14.387594Z",
     "iopub.status.busy": "2022-05-15T13:22:14.387300Z",
     "iopub.status.idle": "2022-05-15T13:58:29.228045Z",
     "shell.execute_reply": "2022-05-15T13:58:29.227254Z"
    },
    "papermill": {
     "duration": 2174.882337,
     "end_time": "2022-05-15T13:58:29.249054",
     "exception": false,
     "start_time": "2022-05-15T13:22:14.366717",
     "status": "completed"
    },
    "tags": []
   },
   "outputs": [
    {
     "name": "stderr",
     "output_type": "stream",
     "text": [
      "c:\\Users\\yahya_abbas\\OneDrive - Dell Technologies\\Desktop\\AI-Capacity-Building\\venv\\lib\\site-packages\\sklearn\\svm\\_base.py:301: ConvergenceWarning: Solver terminated early (max_iter=10).  Consider pre-processing your data with StandardScaler or MinMaxScaler.\n",
      "  warnings.warn(\n"
     ]
    }
   ],
   "source": [
    "with mlflow.start_run() as run:\n",
    "    pipe.fit(x_train,y_train)"
   ]
  },
  {
   "cell_type": "code",
   "execution_count": 36,
   "id": "3910034c",
   "metadata": {},
   "outputs": [
    {
     "name": "stdout",
     "output_type": "stream",
     "text": [
      "{'memory': 'None',\n",
      " 'steps': \"[('tfidfvectorizer', TfidfVectorizer()), ('svc', SVC(max_iter=10))]\",\n",
      " 'svc': 'SVC(max_iter=10)',\n",
      " 'svc__C': '1.0',\n",
      " 'svc__break_ties': 'False',\n",
      " 'svc__cache_size': '200',\n",
      " 'svc__class_weight': 'None',\n",
      " 'svc__coef0': '0.0',\n",
      " 'svc__decision_function_shape': 'ovr',\n",
      " 'svc__degree': '3',\n",
      " 'svc__gamma': 'scale',\n",
      " 'svc__kernel': 'rbf',\n",
      " 'svc__max_iter': '10',\n",
      " 'svc__probability': 'False',\n",
      " 'svc__random_state': 'None',\n",
      " 'svc__shrinking': 'True',\n",
      " 'svc__tol': '0.001',\n",
      " 'svc__verbose': 'False',\n",
      " 'tfidfvectorizer': 'TfidfVectorizer()',\n",
      " 'tfidfvectorizer__analyzer': 'word',\n",
      " 'tfidfvectorizer__binary': 'False',\n",
      " 'tfidfvectorizer__decode_error': 'strict',\n",
      " 'tfidfvectorizer__dtype': \"<class 'numpy.float64'>\",\n",
      " 'tfidfvectorizer__encoding': 'utf-8',\n",
      " 'tfidfvectorizer__input': 'content',\n",
      " 'tfidfvectorizer__lowercase': 'True',\n",
      " 'tfidfvectorizer__max_df': '1.0',\n",
      " 'tfidfvectorizer__max_features': 'None',\n",
      " 'tfidfvectorizer__min_df': '1',\n",
      " 'tfidfvectorizer__ngram_range': '(1, 1)',\n",
      " 'tfidfvectorizer__norm': 'l2',\n",
      " 'tfidfvectorizer__preprocessor': 'None',\n",
      " 'tfidfvectorizer__smooth_idf': 'True',\n",
      " 'tfidfvectorizer__stop_words': 'None',\n",
      " 'tfidfvectorizer__strip_accents': 'None',\n",
      " 'tfidfvectorizer__sublinear_tf': 'False',\n",
      " 'tfidfvectorizer__token_pattern': '(?u)\\\\b\\\\w\\\\w+\\\\b',\n",
      " 'tfidfvectorizer__tokenizer': 'None',\n",
      " 'tfidfvectorizer__use_idf': 'True',\n",
      " 'tfidfvectorizer__vocabulary': 'None',\n",
      " 'verbose': 'False'}\n",
      "{'training_accuracy_score': 0.5108644409205846,\n",
      " 'training_f1_score': 0.3600720560511596,\n",
      " 'training_precision_score': 0.7117617412103935,\n",
      " 'training_recall_score': 0.5108644409205846,\n",
      " 'training_score': 0.5108644409205846}\n",
      "{'estimator_class': 'sklearn.pipeline.Pipeline', 'estimator_name': 'Pipeline'}\n",
      "['model/MLmodel',\n",
      " 'model/conda.yaml',\n",
      " 'model/model.pkl',\n",
      " 'model/python_env.yaml',\n",
      " 'model/requirements.txt']\n"
     ]
    }
   ],
   "source": [
    "# fetch logged data\n",
    "params, metrics, tags, artifacts = fetch_logged_data(run.info.run_id)\n",
    "\n",
    "pprint(params)\n",
    "\n",
    "pprint(metrics)\n",
    "\n",
    "pprint(tags)\n",
    "\n",
    "pprint(artifacts)"
   ]
  },
  {
   "cell_type": "code",
   "execution_count": 37,
   "id": "8c3619d5",
   "metadata": {
    "execution": {
     "iopub.execute_input": "2022-05-15T13:58:29.289496Z",
     "iopub.status.busy": "2022-05-15T13:58:29.289207Z",
     "iopub.status.idle": "2022-05-15T14:03:00.749645Z",
     "shell.execute_reply": "2022-05-15T14:03:00.748764Z"
    },
    "papermill": {
     "duration": 271.483632,
     "end_time": "2022-05-15T14:03:00.752094",
     "exception": false,
     "start_time": "2022-05-15T13:58:29.268462",
     "status": "completed"
    },
    "tags": []
   },
   "outputs": [],
   "source": [
    "y_pred=pipe.predict(x_test)"
   ]
  },
  {
   "cell_type": "code",
   "execution_count": 38,
   "id": "f4499bce",
   "metadata": {
    "execution": {
     "iopub.execute_input": "2022-05-15T14:03:00.793120Z",
     "iopub.status.busy": "2022-05-15T14:03:00.792618Z",
     "iopub.status.idle": "2022-05-15T14:03:00.836094Z",
     "shell.execute_reply": "2022-05-15T14:03:00.835454Z"
    },
    "papermill": {
     "duration": 0.065744,
     "end_time": "2022-05-15T14:03:00.837874",
     "exception": false,
     "start_time": "2022-05-15T14:03:00.772130",
     "status": "completed"
    },
    "tags": []
   },
   "outputs": [
    {
     "data": {
      "text/plain": [
       "0.51425"
      ]
     },
     "execution_count": 38,
     "metadata": {},
     "output_type": "execute_result"
    }
   ],
   "source": [
    "from sklearn.metrics import accuracy_score,confusion_matrix\n",
    "accuracy_score(y_test,y_pred)"
   ]
  },
  {
   "cell_type": "code",
   "execution_count": null,
   "id": "9e632638",
   "metadata": {},
   "outputs": [],
   "source": []
  }
 ],
 "metadata": {
  "kernelspec": {
   "display_name": "Python 3.10.5 64-bit",
   "language": "python",
   "name": "python3"
  },
  "language_info": {
   "codemirror_mode": {
    "name": "ipython",
    "version": 3
   },
   "file_extension": ".py",
   "mimetype": "text/x-python",
   "name": "python",
   "nbconvert_exporter": "python",
   "pygments_lexer": "ipython3",
   "version": "3.10.5"
  },
  "papermill": {
   "default_parameters": {},
   "duration": 2544.131801,
   "end_time": "2022-05-15T14:03:01.681494",
   "environment_variables": {},
   "exception": null,
   "input_path": "__notebook__.ipynb",
   "output_path": "__notebook__.ipynb",
   "parameters": {},
   "start_time": "2022-05-15T13:20:37.549693",
   "version": "2.3.4"
  },
  "vscode": {
   "interpreter": {
    "hash": "26de051ba29f2982a8de78e945f0abaf191376122a1563185a90213a26c5da77"
   }
  }
 },
 "nbformat": 4,
 "nbformat_minor": 5
}
